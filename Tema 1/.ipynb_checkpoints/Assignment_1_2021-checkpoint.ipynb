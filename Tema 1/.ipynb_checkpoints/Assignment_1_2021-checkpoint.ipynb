{
 "cells": [
  {
   "cell_type": "markdown",
   "metadata": {
    "id": "zR1ZlT9j0U4p"
   },
   "source": [
    "# Assignment 1: Bucharest Housing Dataset\n",
    "\n",
    "\n",
    "\n"
   ]
  },
  {
   "cell_type": "markdown",
   "metadata": {
    "id": "rfXso_GoZk9u"
   },
   "source": [
    "## Dataset Description\n",
    "In the dataset linked below you have over three thousand apartments listed for sale on the locally popular website *imobiliare.ro*. Each entry provides details about different aspects of the house or apartment:\n",
    "1. `Nr Camere` indicates the number of rooms;\n",
    "2. `Suprafata` specifies the total area of the dwelling;\n",
    "3. `Etaj` specifies the floor that the home is located at;\n",
    "4. `Total Etaje` is the total number of floors of the block of flats;\n",
    "5. `Sector` represents the administrative district of Bucharest in which the apartment is located;\n",
    "6. `Pret` represents the listing price of each dwelling;\n",
    "7. `Scor` represents a rating between 1 and 5 of location of the apartment. It was computed in the following manner by the dataset creator:\n",
    "  1. The initial dataset included the address of each flat;\n",
    "  2. An extra dataset was used, which included the average sales price of dwellings in different areas of town;\n",
    "  3. Using all of these monthly averages, a clusterization algorithm grouped them into 5 classes, which were then labelled 1-5;\n",
    "  4. You can think of these scores as an indication of the value of the surrounding area, with 1 being expensive, and 5 being inexpensive.\n",
    "\n",
    "Dataset Source: [kaggle.com/denisadutca](https://www.kaggle.com/denisadutca/bucharest-house-price-dataset/kernels)\n",
    "\n",
    "\n"
   ]
  },
  {
   "cell_type": "markdown",
   "metadata": {
    "id": "SwVnR01-ZmIE"
   },
   "source": [
    "## To Do\n",
    "\n",
    "To complete this assignment, you must:\n",
    "1. Get the data in a PyTorch-friendly format;\n",
    "2. Predict the `Nr Camere` of each dwelling, treating it as a **classification** problem. Choose an appropriate loss function;\n",
    "3. Predict the `Nr Camere` of each dwelling, treating it as a **regression** problem. Choose an appropriate loss function;\n",
    "4. Compare the results of the two approaches, displaying the Confusion Matrix for the two, as well as any comparing any other metrics you think are interesting (e.g. MSE). Comment on the results;\n",
    "5. Choose to predict a feature more suitable to be treated as a **regression** problem, then successfully solve it.\n",
    "6. What values should the loss have when the predictions are random (when your network is not trained at all)?\n",
    "7. Don't forget to split the dataset in training and validation.\n",
    "\n",
    "\n"
   ]
  },
  {
   "cell_type": "markdown",
   "metadata": {
    "id": "noDnc4PEZnOk"
   },
   "source": [
    "## Hints\n",
    "1. It might prove useful to link your Google Drive to this Notebook. See the code cell below;\n",
    "2. You might want to think of ways of preprocessing your data (e.g. One Hot Encoding, etc.);\n",
    "3. Don't be afraid of using text cells to actually write your thoughts about the data/results. Might prove useful at the end of the semester when you'll need to walk us through your solution 😉.\n",
    "\n"
   ]
  },
  {
   "cell_type": "markdown",
   "metadata": {
    "id": "9Pjwrt_IZoeQ"
   },
   "source": [
    "## Deadline\n",
    "March 18, 2021, 23:59\n",
    "\n",
    "**Punctaj maxim:** 2 puncte.\n",
    "\n",
    "Depunctarea este de 0.25 puncte pe zi intarziata. Dupa mai mult de 4 zile intarziere, punctajul maxim care se poate obtine ramane 1 punct.\n",
    "\n",
    "Trimite notebookul si datasetul intr-o arhiva `NumePrenume_Grupa_Tema1.zip` aici: https://forms.gle/MGrLvehEjmtWmQZP7 (la sustinerea temei, vei rula codul din arhiva)."
   ]
  },
  {
   "cell_type": "code",
   "execution_count": null,
   "metadata": {
    "colab": {
     "base_uri": "https://localhost:8080/",
     "height": 124
    },
    "id": "_epOks2gzT3O",
    "outputId": "6518dda6-98dc-4000-c1df-4af40a505db6"
   },
   "outputs": [
    {
     "name": "stdout",
     "output_type": "stream",
     "text": [
      "Go to this URL in a browser: https://accounts.google.com/o/oauth2/auth?client_id=947318989803-6bn6qk8qdgf4n4g3pfee6491hc0brc4i.apps.googleusercontent.com&redirect_uri=urn%3aietf%3awg%3aoauth%3a2.0%3aoob&response_type=code&scope=email%20https%3a%2f%2fwww.googleapis.com%2fauth%2fdocs.test%20https%3a%2f%2fwww.googleapis.com%2fauth%2fdrive%20https%3a%2f%2fwww.googleapis.com%2fauth%2fdrive.photos.readonly%20https%3a%2f%2fwww.googleapis.com%2fauth%2fpeopleapi.readonly\n",
      "\n",
      "Enter your authorization code:\n",
      "··········\n",
      "Mounted at /content/gdrive\n"
     ]
    }
   ],
   "source": [
    "from google.colab import drive\n",
    "drive.mount('/content/gdrive')"
   ]
  }
 ],
 "metadata": {
  "accelerator": "GPU",
  "colab": {
   "collapsed_sections": [],
   "name": "Assignment_1_2021.ipynb",
   "provenance": [],
   "toc_visible": true
  },
  "kernelspec": {
   "display_name": "Python 3",
   "language": "python",
   "name": "python3"
  },
  "language_info": {
   "codemirror_mode": {
    "name": "ipython",
    "version": 3
   },
   "file_extension": ".py",
   "mimetype": "text/x-python",
   "name": "python",
   "nbconvert_exporter": "python",
   "pygments_lexer": "ipython3",
   "version": "3.8.5"
  }
 },
 "nbformat": 4,
 "nbformat_minor": 1
}
